{
 "cells": [
  {
   "cell_type": "code",
   "execution_count": 1,
   "metadata": {},
   "outputs": [],
   "source": [
    "# name = input(\"Please enter your name:  (format LastName_FirstName)\")\n",
    "# age = int(input(\"Please enter your age: (Only Integer please)\"))\n",
    "# height = int(input(\"Please enter your height: (Number please in centimeters)\"))\n",
    "# weight = int(input(\"Please enter your weight: (Number please in kg)\"))\n",
    "\n",
    "name = \"Bai_Muqing\"\n",
    "age = 27\n",
    "height = 180.34\n",
    "weight = 75.0\n",
    "place_of_residency = \"cambridge,ma,us\""
   ]
  },
  {
   "cell_type": "code",
   "execution_count": 2,
   "metadata": {},
   "outputs": [],
   "source": [
    "user_info = {\n",
    "    \"name\" : name,\n",
    "    \"age\" : age,\n",
    "    \"height\" : height,\n",
    "    \"weight\" : weight,\n",
    "    \"place_of_residency\" : place_of_residency,\n",
    "}"
   ]
  },
  {
   "cell_type": "code",
   "execution_count": 3,
   "metadata": {},
   "outputs": [
    {
     "data": {
      "text/html": [
       "<div>\n",
       "<style scoped>\n",
       "    .dataframe tbody tr th:only-of-type {\n",
       "        vertical-align: middle;\n",
       "    }\n",
       "\n",
       "    .dataframe tbody tr th {\n",
       "        vertical-align: top;\n",
       "    }\n",
       "\n",
       "    .dataframe thead th {\n",
       "        text-align: right;\n",
       "    }\n",
       "</style>\n",
       "<table border=\"1\" class=\"dataframe\">\n",
       "  <thead>\n",
       "    <tr style=\"text-align: right;\">\n",
       "      <th></th>\n",
       "      <th>time</th>\n",
       "      <th>glu</th>\n",
       "      <th>calories</th>\n",
       "      <th>ingredients</th>\n",
       "    </tr>\n",
       "  </thead>\n",
       "  <tbody>\n",
       "    <tr>\n",
       "      <th>0</th>\n",
       "      <td>2023-03-03 18:45:00</td>\n",
       "      <td>111</td>\n",
       "      <td>NaN</td>\n",
       "      <td>NaN</td>\n",
       "    </tr>\n",
       "    <tr>\n",
       "      <th>1</th>\n",
       "      <td>2023-03-03 19:18:00</td>\n",
       "      <td>83</td>\n",
       "      <td>200.0</td>\n",
       "      <td>500ml of 8% alcoholic drinks</td>\n",
       "    </tr>\n",
       "    <tr>\n",
       "      <th>2</th>\n",
       "      <td>2023-03-03 20:14:00</td>\n",
       "      <td>127</td>\n",
       "      <td>NaN</td>\n",
       "      <td>NaN</td>\n",
       "    </tr>\n",
       "    <tr>\n",
       "      <th>3</th>\n",
       "      <td>2023-03-04 06:13:00</td>\n",
       "      <td>101</td>\n",
       "      <td>-450.0</td>\n",
       "      <td>Woke up from a 9hr sleep</td>\n",
       "    </tr>\n",
       "    <tr>\n",
       "      <th>4</th>\n",
       "      <td>2023-03-04 09:40:00</td>\n",
       "      <td>114</td>\n",
       "      <td>319.0</td>\n",
       "      <td>boiled chicken breast, pan fried oyster mushro...</td>\n",
       "    </tr>\n",
       "  </tbody>\n",
       "</table>\n",
       "</div>"
      ],
      "text/plain": [
       "                 time  glu  calories  \\\n",
       "0 2023-03-03 18:45:00  111       NaN   \n",
       "1 2023-03-03 19:18:00   83     200.0   \n",
       "2 2023-03-03 20:14:00  127       NaN   \n",
       "3 2023-03-04 06:13:00  101    -450.0   \n",
       "4 2023-03-04 09:40:00  114     319.0   \n",
       "\n",
       "                                         ingredients  \n",
       "0                                                NaN  \n",
       "1                      500ml of 8% alcoholic drinks   \n",
       "2                                                NaN  \n",
       "3                           Woke up from a 9hr sleep  \n",
       "4  boiled chicken breast, pan fried oyster mushro...  "
      ]
     },
     "execution_count": 3,
     "metadata": {},
     "output_type": "execute_result"
    }
   ],
   "source": [
    "import pandas as pd\n",
    "df2 = pd.read_excel('230303-17_MQ_CGM.xlsx', skiprows=1,\n",
    "                    sheet_name='Scanned_inputs')  # 读取scanned input sheet\n",
    "df2 = df2[[\"Device Timestamp\", \"Scan Glucose mg/dL\", \"Notes(Calories)\", \"Notes(Ingredients)\"]]\n",
    "df2.columns = [\"time\", \"glu\", \"calories\", \"ingredients\"]\n",
    "df2.head()"
   ]
  },
  {
   "cell_type": "code",
   "execution_count": 4,
   "metadata": {},
   "outputs": [],
   "source": [
    "temp = df2.dropna(subset=[\"ingredients\", \"calories\"])"
   ]
  },
  {
   "cell_type": "code",
   "execution_count": 5,
   "metadata": {},
   "outputs": [
    {
     "data": {
      "text/html": [
       "<div>\n",
       "<style scoped>\n",
       "    .dataframe tbody tr th:only-of-type {\n",
       "        vertical-align: middle;\n",
       "    }\n",
       "\n",
       "    .dataframe tbody tr th {\n",
       "        vertical-align: top;\n",
       "    }\n",
       "\n",
       "    .dataframe thead th {\n",
       "        text-align: right;\n",
       "    }\n",
       "</style>\n",
       "<table border=\"1\" class=\"dataframe\">\n",
       "  <thead>\n",
       "    <tr style=\"text-align: right;\">\n",
       "      <th></th>\n",
       "      <th>time</th>\n",
       "      <th>glu</th>\n",
       "      <th>calories</th>\n",
       "      <th>ingredients</th>\n",
       "    </tr>\n",
       "  </thead>\n",
       "  <tbody>\n",
       "    <tr>\n",
       "      <th>1</th>\n",
       "      <td>2023-03-03 19:18:00</td>\n",
       "      <td>83</td>\n",
       "      <td>200.0</td>\n",
       "      <td>500ml of 8% alcoholic drinks</td>\n",
       "    </tr>\n",
       "    <tr>\n",
       "      <th>3</th>\n",
       "      <td>2023-03-04 06:13:00</td>\n",
       "      <td>101</td>\n",
       "      <td>-450.0</td>\n",
       "      <td>Woke up from a 9hr sleep</td>\n",
       "    </tr>\n",
       "    <tr>\n",
       "      <th>4</th>\n",
       "      <td>2023-03-04 09:40:00</td>\n",
       "      <td>114</td>\n",
       "      <td>319.0</td>\n",
       "      <td>boiled chicken breast, pan fried oyster mushro...</td>\n",
       "    </tr>\n",
       "    <tr>\n",
       "      <th>5</th>\n",
       "      <td>2023-03-04 11:24:00</td>\n",
       "      <td>105</td>\n",
       "      <td>-62.0</td>\n",
       "      <td>took a shower</td>\n",
       "    </tr>\n",
       "    <tr>\n",
       "      <th>6</th>\n",
       "      <td>2023-03-04 11:50:00</td>\n",
       "      <td>116</td>\n",
       "      <td>150.0</td>\n",
       "      <td>A can of Pepsi</td>\n",
       "    </tr>\n",
       "  </tbody>\n",
       "</table>\n",
       "</div>"
      ],
      "text/plain": [
       "                 time  glu  calories  \\\n",
       "1 2023-03-03 19:18:00   83     200.0   \n",
       "3 2023-03-04 06:13:00  101    -450.0   \n",
       "4 2023-03-04 09:40:00  114     319.0   \n",
       "5 2023-03-04 11:24:00  105     -62.0   \n",
       "6 2023-03-04 11:50:00  116     150.0   \n",
       "\n",
       "                                         ingredients  \n",
       "1                      500ml of 8% alcoholic drinks   \n",
       "3                           Woke up from a 9hr sleep  \n",
       "4  boiled chicken breast, pan fried oyster mushro...  \n",
       "5                                      took a shower  \n",
       "6                                     A can of Pepsi  "
      ]
     },
     "execution_count": 5,
     "metadata": {},
     "output_type": "execute_result"
    }
   ],
   "source": [
    "temp.head()"
   ]
  },
  {
   "cell_type": "code",
   "execution_count": 6,
   "metadata": {},
   "outputs": [
    {
     "name": "stderr",
     "output_type": "stream",
     "text": [
      "<ipython-input-6-ba3abb85b99a>:1: SettingWithCopyWarning: \n",
      "A value is trying to be set on a copy of a slice from a DataFrame.\n",
      "Try using .loc[row_indexer,col_indexer] = value instead\n",
      "\n",
      "See the caveats in the documentation: https://pandas.pydata.org/pandas-docs/stable/user_guide/indexing.html#returning-a-view-versus-a-copy\n",
      "  temp[\"time\"] = temp[\"time\"].dt.strftime(\"%Y-%m-%d, %H:%M:%S\")\n"
     ]
    }
   ],
   "source": [
    "temp[\"time\"] = temp[\"time\"].dt.strftime(\"%Y-%m-%d, %H:%M:%S\")"
   ]
  },
  {
   "cell_type": "code",
   "execution_count": 7,
   "metadata": {},
   "outputs": [],
   "source": [
    "temp = temp.to_dict(orient =\"list\")"
   ]
  },
  {
   "cell_type": "code",
   "execution_count": 8,
   "metadata": {},
   "outputs": [],
   "source": [
    "user_info[\"eating habitat input\"] = temp"
   ]
  },
  {
   "cell_type": "code",
   "execution_count": 9,
   "metadata": {},
   "outputs": [
    {
     "data": {
      "text/html": [
       "<div>\n",
       "<style scoped>\n",
       "    .dataframe tbody tr th:only-of-type {\n",
       "        vertical-align: middle;\n",
       "    }\n",
       "\n",
       "    .dataframe tbody tr th {\n",
       "        vertical-align: top;\n",
       "    }\n",
       "\n",
       "    .dataframe thead th {\n",
       "        text-align: right;\n",
       "    }\n",
       "</style>\n",
       "<table border=\"1\" class=\"dataframe\">\n",
       "  <thead>\n",
       "    <tr style=\"text-align: right;\">\n",
       "      <th></th>\n",
       "      <th>time</th>\n",
       "      <th>glu</th>\n",
       "      <th>calories</th>\n",
       "      <th>gap_minute</th>\n",
       "      <th>glu_diff</th>\n",
       "      <th>slope</th>\n",
       "    </tr>\n",
       "  </thead>\n",
       "  <tbody>\n",
       "    <tr>\n",
       "      <th>0</th>\n",
       "      <td>2023-03-03 18:32:00</td>\n",
       "      <td>120.0</td>\n",
       "      <td>NaN</td>\n",
       "      <td>0</td>\n",
       "      <td>0.0</td>\n",
       "      <td>NaN</td>\n",
       "    </tr>\n",
       "    <tr>\n",
       "      <th>1</th>\n",
       "      <td>2023-03-03 18:45:00</td>\n",
       "      <td>111.0</td>\n",
       "      <td>NaN</td>\n",
       "      <td>13</td>\n",
       "      <td>-9.0</td>\n",
       "      <td>-0.692308</td>\n",
       "    </tr>\n",
       "    <tr>\n",
       "      <th>2</th>\n",
       "      <td>2023-03-03 18:47:00</td>\n",
       "      <td>110.0</td>\n",
       "      <td>NaN</td>\n",
       "      <td>2</td>\n",
       "      <td>-1.0</td>\n",
       "      <td>-0.500000</td>\n",
       "    </tr>\n",
       "    <tr>\n",
       "      <th>3</th>\n",
       "      <td>2023-03-03 19:02:00</td>\n",
       "      <td>100.0</td>\n",
       "      <td>NaN</td>\n",
       "      <td>15</td>\n",
       "      <td>-10.0</td>\n",
       "      <td>-0.666667</td>\n",
       "    </tr>\n",
       "    <tr>\n",
       "      <th>4</th>\n",
       "      <td>2023-03-03 19:18:00</td>\n",
       "      <td>83.0</td>\n",
       "      <td>200.0</td>\n",
       "      <td>16</td>\n",
       "      <td>-17.0</td>\n",
       "      <td>-1.062500</td>\n",
       "    </tr>\n",
       "  </tbody>\n",
       "</table>\n",
       "</div>"
      ],
      "text/plain": [
       "                  time    glu  calories  gap_minute  glu_diff     slope\n",
       "0  2023-03-03 18:32:00  120.0       NaN           0       0.0       NaN\n",
       "1  2023-03-03 18:45:00  111.0       NaN          13      -9.0 -0.692308\n",
       "2  2023-03-03 18:47:00  110.0       NaN           2      -1.0 -0.500000\n",
       "3  2023-03-03 19:02:00  100.0       NaN          15     -10.0 -0.666667\n",
       "4  2023-03-03 19:18:00   83.0     200.0          16     -17.0 -1.062500"
      ]
     },
     "execution_count": 9,
     "metadata": {},
     "output_type": "execute_result"
    }
   ],
   "source": [
    "glu_df = pd.read_csv(\"output.csv\")\n",
    "glu_df.head()"
   ]
  },
  {
   "cell_type": "code",
   "execution_count": 10,
   "metadata": {},
   "outputs": [],
   "source": [
    "glu_df = glu_df.drop(columns=[\"gap_minute\", \"glu_diff\"])"
   ]
  },
  {
   "cell_type": "code",
   "execution_count": 11,
   "metadata": {},
   "outputs": [],
   "source": [
    "glu_df = glu_df.fillna(0.0)\n",
    "glu_df[\"time\"] = pd.to_datetime(glu_df[\"time\"])\n",
    "glu_df[\"time\"] = glu_df[\"time\"].dt.strftime(\"%Y-%m-%d, %H:%M:%S\")"
   ]
  },
  {
   "cell_type": "code",
   "execution_count": 12,
   "metadata": {},
   "outputs": [
    {
     "data": {
      "text/html": [
       "<div>\n",
       "<style scoped>\n",
       "    .dataframe tbody tr th:only-of-type {\n",
       "        vertical-align: middle;\n",
       "    }\n",
       "\n",
       "    .dataframe tbody tr th {\n",
       "        vertical-align: top;\n",
       "    }\n",
       "\n",
       "    .dataframe thead th {\n",
       "        text-align: right;\n",
       "    }\n",
       "</style>\n",
       "<table border=\"1\" class=\"dataframe\">\n",
       "  <thead>\n",
       "    <tr style=\"text-align: right;\">\n",
       "      <th></th>\n",
       "      <th>time</th>\n",
       "      <th>glu</th>\n",
       "      <th>calories</th>\n",
       "      <th>slope</th>\n",
       "    </tr>\n",
       "  </thead>\n",
       "  <tbody>\n",
       "    <tr>\n",
       "      <th>0</th>\n",
       "      <td>2023-03-03, 18:32:00</td>\n",
       "      <td>120.0</td>\n",
       "      <td>0.0</td>\n",
       "      <td>0.000000</td>\n",
       "    </tr>\n",
       "    <tr>\n",
       "      <th>1</th>\n",
       "      <td>2023-03-03, 18:45:00</td>\n",
       "      <td>111.0</td>\n",
       "      <td>0.0</td>\n",
       "      <td>-0.692308</td>\n",
       "    </tr>\n",
       "    <tr>\n",
       "      <th>2</th>\n",
       "      <td>2023-03-03, 18:47:00</td>\n",
       "      <td>110.0</td>\n",
       "      <td>0.0</td>\n",
       "      <td>-0.500000</td>\n",
       "    </tr>\n",
       "    <tr>\n",
       "      <th>3</th>\n",
       "      <td>2023-03-03, 19:02:00</td>\n",
       "      <td>100.0</td>\n",
       "      <td>0.0</td>\n",
       "      <td>-0.666667</td>\n",
       "    </tr>\n",
       "    <tr>\n",
       "      <th>4</th>\n",
       "      <td>2023-03-03, 19:18:00</td>\n",
       "      <td>83.0</td>\n",
       "      <td>200.0</td>\n",
       "      <td>-1.062500</td>\n",
       "    </tr>\n",
       "  </tbody>\n",
       "</table>\n",
       "</div>"
      ],
      "text/plain": [
       "                   time    glu  calories     slope\n",
       "0  2023-03-03, 18:32:00  120.0       0.0  0.000000\n",
       "1  2023-03-03, 18:45:00  111.0       0.0 -0.692308\n",
       "2  2023-03-03, 18:47:00  110.0       0.0 -0.500000\n",
       "3  2023-03-03, 19:02:00  100.0       0.0 -0.666667\n",
       "4  2023-03-03, 19:18:00   83.0     200.0 -1.062500"
      ]
     },
     "execution_count": 12,
     "metadata": {},
     "output_type": "execute_result"
    }
   ],
   "source": [
    "glu_df.head()"
   ]
  },
  {
   "cell_type": "code",
   "execution_count": 13,
   "metadata": {},
   "outputs": [],
   "source": [
    "slope = glu_df[[\"time\", \"slope\"]]"
   ]
  },
  {
   "cell_type": "code",
   "execution_count": 20,
   "metadata": {},
   "outputs": [],
   "source": [
    "slope = slope.fillna(0)\n",
    "slope['time'] = pd.to_datetime(slope['time'])\n",
    "group_slope = slope.groupby(slope[\"time\"].dt.date)\n",
    "\n",
    "import numpy as np\n",
    "\n",
    "avg_slope = []\n",
    "for date, group in group_slope:\n",
    "    group = np.array(group['slope'])\n",
    "    avg_slope.append({\"date\": date.strftime(\"%Y-%m-%d\"),\n",
    "                      \"slope\": np.absolute(group).mean()})"
   ]
  },
  {
   "cell_type": "code",
   "execution_count": null,
   "metadata": {},
   "outputs": [],
   "source": []
  },
  {
   "cell_type": "code",
   "execution_count": 21,
   "metadata": {},
   "outputs": [
    {
     "name": "stdout",
     "output_type": "stream",
     "text": [
      "80.00%\n"
     ]
    }
   ],
   "source": [
    "avg_slopes = [d[\"slope\"] for d in avg_slope]\n",
    "\n",
    "health_threshold = 0.5\n",
    "# count how many values are larger than 0.5\n",
    "count = sum([1 for x in avg_slopes if x > health_threshold])\n",
    "\n",
    "# convert the float to a percentage format\n",
    "health_percentage = '{:.2%}'.format(count/len(avg_slopes))\n",
    "\n",
    "# print the result\n",
    "print(health_percentage)"
   ]
  },
  {
   "cell_type": "code",
   "execution_count": 22,
   "metadata": {},
   "outputs": [],
   "source": [
    "user_info[\"health_slope\"] = avg_slope\n",
    "user_info[\"unhealth_ratio\"] = health_percentage"
   ]
  },
  {
   "cell_type": "code",
   "execution_count": 23,
   "metadata": {},
   "outputs": [],
   "source": [
    "user_info[\"glu_table\"] = glu_df.to_dict(orient=\"list\")"
   ]
  },
  {
   "cell_type": "code",
   "execution_count": 24,
   "metadata": {},
   "outputs": [],
   "source": [
    "import json \n",
    "\n",
    "with open (\"test.json\", \"w\") as f:\n",
    "    json.dump(user_info, f)"
   ]
  },
  {
   "cell_type": "code",
   "execution_count": null,
   "metadata": {},
   "outputs": [],
   "source": []
  },
  {
   "cell_type": "code",
   "execution_count": null,
   "metadata": {},
   "outputs": [],
   "source": []
  }
 ],
 "metadata": {
  "kernelspec": {
   "display_name": "base",
   "language": "python",
   "name": "python3"
  },
  "language_info": {
   "codemirror_mode": {
    "name": "ipython",
    "version": 3
   },
   "file_extension": ".py",
   "mimetype": "text/x-python",
   "name": "python",
   "nbconvert_exporter": "python",
   "pygments_lexer": "ipython3",
   "version": "3.8.8"
  },
  "orig_nbformat": 4
 },
 "nbformat": 4,
 "nbformat_minor": 2
}
